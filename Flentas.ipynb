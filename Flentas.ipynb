{
  "nbformat": 4,
  "nbformat_minor": 0,
  "metadata": {
    "colab": {
      "name": "Flentas.ipynb",
      "provenance": [],
      "collapsed_sections": []
    },
    "kernelspec": {
      "name": "python3",
      "display_name": "Python 3"
    }
  },
  "cells": [
    {
      "cell_type": "code",
      "metadata": {
        "id": "kAIySrMpL-Lu",
        "colab_type": "code",
        "colab": {
          "base_uri": "https://localhost:8080/",
          "height": 153
        },
        "outputId": "822a3a0f-b03b-4868-cc33-9cf33dc0a9b6"
      },
      "source": [
        "# minimum cost function \n",
        "def minCost(price, n): \n",
        "\n",
        "\t# Sort the price array \n",
        "\tprice = sorted(price) \n",
        "\ttotalCost = 0\n",
        "\n",
        "\tfor i in range(n - 1, 1, -2): \n",
        "\t\tif (i == 2): \n",
        "\t\t\ttotalCost += price[2] + price[0] \n",
        "\n",
        "\t\telse: \t \n",
        "\t\t\tp1 = price[i] + price[0] + 2 * price[1] \n",
        "\t\t\tp2 = price[i] + price[i - 1] + 2 * price[0] \n",
        "\t\t\ttotalCost += min(p1, p2) \n",
        "\n",
        "\t#minimum price  \n",
        "\tif (n == 1): \n",
        "\t\ttotalCost += price[0] \n",
        "\n",
        "\telse: \n",
        "\t\ttotalCost += price[1]\n",
        "\n",
        "\treturn totalCost \n",
        "\n",
        "\n",
        "price = []\n",
        "n = int(input('enter number of persons:: '))\n",
        "print('Enter the cost of person::')\n",
        "for i in range(int(n)):\n",
        "  k = int(input(''))\n",
        "  price.append(k)\n",
        "print(\"The prices are:: \", price)\n",
        "\n",
        "print(minCost(price, n)) \n",
        "\n"
      ],
      "execution_count": 38,
      "outputs": [
        {
          "output_type": "stream",
          "text": [
            "enter number of persons:: 4\n",
            "Enter the cost of person::\n",
            "600\n",
            "800\n",
            "150\n",
            "700\n",
            "The prices are::  [600, 800, 150, 700]\n",
            "2400\n"
          ],
          "name": "stdout"
        }
      ]
    }
  ]
}